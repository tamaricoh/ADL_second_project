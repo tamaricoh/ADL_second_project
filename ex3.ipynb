{
 "cells": [
  {
   "cell_type": "code",
   "execution_count": 88,
   "metadata": {},
   "outputs": [],
   "source": [
    "import torch\n",
    "import torch.nn as nn\n",
    "import torchvision\n",
    "import torchvision.datasets as datasets\n",
    "import torchvision.transforms as transforms\n",
    "import matplotlib.pyplot as plt\n",
    "from sklearn.manifold import TSNE\n",
    "import numpy as np\n",
    "\n",
    "device = torch.device('cuda' if torch.cuda.is_available() else 'cpu')\n",
    "\n",
    "\n",
    "# -------------------------------------------------------------------- Hyperparameters\n",
    "input_size = 784\n",
    "hidden_size = 500\n",
    "num_classes = 10\n",
    "num_epochs = 5\n",
    "batch_size = 100\n",
    "learning_rate = 0.001\n",
    "# -------------------------------------------------------------------- //\n",
    "\n",
    "# --------------------------------------------------------------------  Load the MNIST train and test sets\n",
    "# Load the MNIST train set\n",
    "train_dataset = datasets.MNIST(root='./data', train=True,\n",
    "                               download=True, transform=transforms.ToTensor())\n",
    "\n",
    "# Load the MNIST test set\n",
    "test_dataset = datasets.MNIST(root='./data', train=False,\n",
    "                              download=True, transform=transforms.ToTensor())\n",
    "\n",
    "train_dataloader = torch.utils.data.DataLoader(\n",
    "    train_dataset, batch_size=batch_size, shuffle=True)\n",
    "test_dataloader = torch.utils.data.DataLoader(\n",
    "    test_dataset, batch_size=batch_size, shuffle=False)\n",
    "# -------------------------------------------------------------------- //"
   ]
  },
  {
   "attachments": {},
   "cell_type": "markdown",
   "metadata": {},
   "source": [
    "`torch.utils.data.DataLoader` is a PyTorch utility class that helps in loading the data in batches for training a neural network. It takes the dataset (`train_dataset` in this case) and several optional arguments to configure the data loading process.\n",
    "\n",
    "Here's an explanation of the arguments used in `torch.utils.data.DataLoader`:\n",
    "\n",
    "* `train_dataset`: This is the training dataset object that we want to load in batches. It contains the input images and labels.\n",
    "\n",
    "* `batch_size`: It specifies the number of samples in each batch. During training, the model will process `batch_size` number of images together and update the model's parameters based on the computed gradients. A smaller batch size can lead to more frequent parameter updates but may require more memory, while a larger batch size can improve computational efficiency but may result in slower convergence.\n",
    "\n",
    "* `shuffle=True`: This argument controls whether to shuffle the training data before each epoch. Setting it to `True` randomizes the order of the samples in each epoch, which helps in reducing the impact of any specific order or pattern in the data. Shuffling the data is important to prevent the model from learning the order of the samples instead of the underlying patterns.\n"
   ]
  },
  {
   "cell_type": "code",
   "execution_count": 89,
   "metadata": {},
   "outputs": [],
   "source": [
    "# -------------------------------------------------------------------- Implement a basic two-layer fully connected neural network\n",
    "# Define the model\n",
    "class Net(nn.Module):\n",
    "    def __init__(self,input_size, hidden_size, num_classes):\n",
    "        super(Net,self).__init__()\n",
    "        self.fc1 = nn.Linear(input_size,hidden_size)\n",
    "        self.relu = nn.ReLU()\n",
    "        self.fc2 = nn.Linear(hidden_size, num_classes)\n",
    "    \n",
    "    def forward(self, x): \n",
    "        out = self.fc1(x)\n",
    "        out = self.relu(out)\n",
    "        out = self.fc2(out)\n",
    "        return out\n",
    "# -------------------------------------------------------------------- //"
   ]
  },
  {
   "attachments": {},
   "cell_type": "markdown",
   "metadata": {},
   "source": [
    " we define a class `Net` that inherits from `nn.Module`, which is the base class for all neural network modules in PyTorch.\n",
    "\n",
    " we define the layers of the network: a fully connected layer (nn.Linear) with ReLU activation function (nn.ReLU), followed by another fully connected layer.\n",
    "\n",
    " The `forward` function pass the input through all the layers.\n",
    "\n",
    " \n",
    " \n",
    "\n"
   ]
  },
  {
   "cell_type": "code",
   "execution_count": 90,
   "metadata": {},
   "outputs": [],
   "source": [
    "# -------------------------------------------------------------------- Define the model, cross entropy loss function and optimizer\n",
    "# Initialize the model\n",
    "NN_model = Net(input_size, hidden_size, num_classes).to(device)\n",
    "# Define the loss function\n",
    "criterion = nn.CrossEntropyLoss()\n",
    "# Define the optimizer\n",
    "optimizer = torch.optim.Adam(NN_model.parameters(), lr=learning_rate)\n",
    "\n",
    "# למה האופטימייזר הזה ? מה זה קרוס אנטרופי ? מה הפרמטרים\n",
    "# -------------------------------------------------------------------- //"
   ]
  },
  {
   "attachments": {},
   "cell_type": "markdown",
   "metadata": {},
   "source": [
    "to(device) is used to specify the device on which the neural network model should be placed."
   ]
  },
  {
   "cell_type": "code",
   "execution_count": 91,
   "metadata": {},
   "outputs": [],
   "source": [
    "\n",
    "# --------------------------------------------------------------------  Implement train procedure\n",
    "def train_model(model , dataloader, optimizer, criterion):\n",
    "    ## 1\n",
    "    model.train()\n",
    "    ## 2\n",
    "    for i, (data, target) in enumerate(dataloader):\n",
    "        ## 3\n",
    "        data = data.reshape(-1, input_size).to(device)\n",
    "        target = target.to(device)\n",
    "        ## 4\n",
    "        optimizer.zero_grad()\n",
    "        ## 5\n",
    "        outputs = model(data)\n",
    "        ## 6\n",
    "        loss = criterion(outputs, target)\n",
    "        ## 7\n",
    "        loss.backward()\n",
    "        ## 8\n",
    "        optimizer.step()\n",
    "\n",
    "# -------------------------------------------------------------------- //"
   ]
  },
  {
   "attachments": {},
   "cell_type": "markdown",
   "metadata": {},
   "source": [
    "1. Ensure that the model's training-specific operations are activated, allowing it to learn from the data more effectively.\n",
    "2. The loop `for i, (images, labels) in enumerate(train_loader)` : iterates over the **batches** in the training data. It provides both the batch of images and their corresponding labels.\n",
    "3. `data = data.reshape(-1, input_size)` reshapes the images from a 4-dimensional tensor (batch_size, channels, height, width) to a 2-dimensional tensor (batch_size, input_size). The `-1` in the reshape operation indicates that the batch size dimension is inferred automatically based on the other dimensions.\n",
    "4. `optimizer.zero_grad()` clears the gradients of all optimized parameters. This step is necessary before computing the gradients in the backward pass.\n",
    "5. The forward pass is performed by calling `outputs = model(images)`. This feeds the reshaped images **through the neural network model, producing predicted outputs for each input image**\n",
    "6. The loss is calculated using the specified loss function by calling `loss = criterion(outputs, labels)`. It compares the predicted outputs with the true labels and quantifies the model's performance.\n",
    "7. `loss.backward()` computes the gradients of the loss with respect to the model's parameters using backpropagation. It calculates the gradient of the loss function with respect to each parameter in the model.\n",
    "8. `optimizer.step()` updates the model's parameters based on the computed gradients and the chosen optimization algorithm. It performs a parameter update using the gradients and the specified learning rate."
   ]
  },
  {
   "cell_type": "code",
   "execution_count": 92,
   "metadata": {},
   "outputs": [],
   "source": [
    "# --------------------------------------------------------------------  Implement evaluation procedure\n",
    "def evaluate_model(model , dataloader, criterion):\n",
    "    ## 0\n",
    "    model.eval()\n",
    "    ## 1\n",
    "    running_loss = 0.0\n",
    "    running_accuracy = 0.0\n",
    "    ## 2 \n",
    "    with torch.no_grad():\n",
    "      ## 3\n",
    "      for data, target in dataloader:\n",
    "        ## 4\n",
    "        data = data.reshape(-1, input_size).to(device)\n",
    "        target = target.to(device)\n",
    "        ## 5 \n",
    "        output = model(data)\n",
    "        ## 6 \n",
    "        loss = criterion(output, target)\n",
    "        ## 7 \n",
    "        _, predicted = torch.max(output.data, 1)\n",
    "        ## 8 \n",
    "        running_loss += loss.item()\n",
    "        ## 9 \n",
    "        running_accuracy += (predicted == target).sum().item()\n",
    "    ## 10\n",
    "    epoch_loss = running_loss / len(dataloader)\n",
    "    ## 11\n",
    "    epoch_accuracy = 100.0 * running_accuracy / len(dataloader.dataset)\n",
    "\n",
    "    ## 12\n",
    "    return epoch_loss, epoch_accuracy\n",
    "# -------------------------------------------------------------------- //"
   ]
  },
  {
   "attachments": {},
   "cell_type": "markdown",
   "metadata": {},
   "source": [
    "0. Set the model to evaluation mode using `model.eval()`. This ensures that any layers or operations that behave differently during training (such as dropout) are disabled.\n",
    "1. Initialize variables `running_loss`, and `running_accuracy` to keep track of the cumulative loss, and accuracy in the evaluation process.\n",
    "2. Use a `with torch.no_grad()` block to disable gradient calculation during evaluation. This saves memory and computation since gradients are not needed for evaluation.\n",
    "3. Iterate over the data in the dataloader using a for loop. Each iteration provides a batch of images and their corresponding labels.\n",
    "4. Reshape the images using `data.reshape(-1, input_size)` to flatten each image into a 1D tensor. This ensures that the input has the expected shape for the model.\n",
    "5. Pass the flattened images through the model to obtain the predicted outputs using `outputs = model(data)`.\n",
    "6. Calculate the loss between the predicted outputs and the ground truth labels using the specified criterion (`criterion(outputs, targets)`).\n",
    "7. Use `torch.max(outputs.data, 1)` to find the index of the maximum value in each output tensor, which represents the predicted class labels.\n",
    "8. Update the running loss by multiplying the loss with the number of samples in the current batch (`loss.item() * data.size(0)`)\n",
    "9. Update the running accuracy by summing the number of correctly predicted samples (`(predicted == targets).sum().item()`).\n",
    "10. Calculate the average loss by dividing the running loss by the total number of samples (`running_loss / total_samples`).\n",
    "11. Calculate the accuracy as a percentage by multiplying the running accuracy by 100 and dividing by the total number of samples (`100.0 * running_accuracy / total_samples`).\n",
    "12. Return the average loss and accuracy as the output of the function.\n",
    "\n",
    "\n",
    "\n",
    "**In step 10, we divide the running_loss by len(dataloader), which gives us the average loss per batch. This is because len(dataloader) represents the number of batches in the dataloader.**\n",
    "\n",
    "**In step 11, we divide the running_accuracy by len(dataloader.dataset), which gives us the accuracy over the entire dataset. This is because len(dataloader.dataset) represents the total number of samples in the dataset.**\n",
    "\n",
    "**So, in step 10, we divide by the number of batches to get the average loss per batch, and in step 11, we divide by the total number of samples to get the accuracy over the entire dataset.**\n"
   ]
  },
  {
   "cell_type": "code",
   "execution_count": 93,
   "metadata": {},
   "outputs": [
    {
     "name": "stdout",
     "output_type": "stream",
     "text": [
      "Epoch [1/5], Train Loss: 0.1347, Train Acc: 96.11%, Test Loss: 0.1400, Test Acc: 95.95%\n",
      "Epoch [2/5], Train Loss: 0.0764, Train Acc: 97.81%, Test Loss: 0.0900, Test Acc: 97.28%\n",
      "Epoch [3/5], Train Loss: 0.0544, Train Acc: 98.44%, Test Loss: 0.0777, Test Acc: 97.72%\n",
      "Epoch [4/5], Train Loss: 0.0379, Train Acc: 99.01%, Test Loss: 0.0670, Test Acc: 97.98%\n",
      "Epoch [5/5], Train Loss: 0.0307, Train Acc: 99.16%, Test Loss: 0.0661, Test Acc: 97.91%\n"
     ]
    }
   ],
   "source": [
    "# -------------------------------------------------------------------- //\n",
    "train_loss_history = []\n",
    "train_acc_history = []\n",
    "test_loss_history = []\n",
    "test_acc_history = []\n",
    "\n",
    "for epoch in range(num_epochs):\n",
    "    train_model(NN_model, train_dataloader, optimizer, criterion)\n",
    "\n",
    "    train_loss, train_acc = evaluate_model(NN_model, train_dataloader, criterion)\n",
    "    test_loss, test_acc = evaluate_model(NN_model, test_dataloader, criterion)\n",
    "\n",
    "    train_loss_history.append(train_loss)\n",
    "    train_acc_history.append(train_acc)\n",
    "    test_loss_history.append(test_loss)\n",
    "    test_acc_history.append(test_acc)\n",
    "\n",
    "    print(f'Epoch [{epoch+1}/{num_epochs}], Train Loss: {train_loss:.4f}, Train Acc: {train_acc:.2f}%, Test Loss: {test_loss:.4f}, Test Acc: {test_acc:.2f}%')\n",
    "# -------------------------------------------------------------------- //"
   ]
  },
  {
   "cell_type": "code",
   "execution_count": 94,
   "metadata": {},
   "outputs": [
    {
     "data": {
      "image/png": "[encoded data removed]",
      "text/plain": [
       "<Figure size 640x480 with 1 Axes>"
      ]
     },
     "metadata": {},
     "output_type": "display_data"
    }
   ],
   "source": [
    "plt.plot(train_loss_history, label='Train Loss')\n",
    "plt.plot(test_loss_history, label='Test Loss')\n",
    "plt.legend()\n",
    "plt.show()"
   ]
  },
  {
   "attachments": {},
   "cell_type": "markdown",
   "metadata": {},
   "source": [
    ". The outer loop `for epoch in range(num_epochs)` : iterates over the specified number of epochs. **An epoch represents a complete pass through the entire training dataset.**"
   ]
  }
 ],
 "metadata": {
  "kernelspec": {
   "display_name": "adl",
   "language": "python",
   "name": "python3"
  },
  "language_info": {
   "codemirror_mode": {
    "name": "ipython",
    "version": 3
   },
   "file_extension": ".py",
   "mimetype": "text/x-python",
   "name": "python",
   "nbconvert_exporter": "python",
   "pygments_lexer": "ipython3",
   "version": "3.8.16"
  },
  "orig_nbformat": 4
 },
 "nbformat": 4,
 "nbformat_minor": 2
}
